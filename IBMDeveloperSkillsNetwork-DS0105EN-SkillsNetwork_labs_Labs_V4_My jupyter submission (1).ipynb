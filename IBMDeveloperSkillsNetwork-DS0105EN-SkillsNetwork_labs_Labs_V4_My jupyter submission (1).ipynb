{
  "metadata": {
    "language_info": {
      "codemirror_mode": {
        "name": "python",
        "version": 3
      },
      "file_extension": ".py",
      "mimetype": "text/x-python",
      "name": "python",
      "nbconvert_exporter": "python",
      "pygments_lexer": "ipython3",
      "version": "3.8"
    },
    "kernelspec": {
      "name": "python",
      "display_name": "Python (Pyodide)",
      "language": "python"
    }
  },
  "nbformat_minor": 4,
  "nbformat": 4,
  "cells": [
    {
      "cell_type": "markdown",
      "source": "My Jupyter Notebook on jupyterLite",
      "metadata": {}
    },
    {
      "cell_type": "markdown",
      "source": "Vijay kumar\nSoftware tester\n\nI am interested in data science because of the following reasons\n\nI love telling stories with data and using data to help bring that data to life. As a data scientist I can turn seemingly meaningless data into a recommendation to help a company improve its product, services, or experiences. This can help a business grow or get more clients.\n\nI am a technophile. I love using the latest and greatest technology. Whether that is hardware or software, I enjoy getting my hands on with these new technologies to see how that can enrich our lives.\n",
      "metadata": {}
    },
    {
      "cell_type": "markdown",
      "source": "Popular languages in Data science\n1) python\n2) R language\n3) C#\n",
      "metadata": {}
    },
    {
      "cell_type": "markdown",
      "source": "Popular Data science libraries.\n\n1) Numpy\n2) scipy\n3) pandas\n4) keras",
      "metadata": {}
    },
    {
      "cell_type": "code",
      "source": "Popular Data Science Tools\n\n1) Tensor Flow\n2) Jupyternotebook\n3) Google Colab\n4) R studio\n5) Git hub for version control and deliverys.",
      "metadata": {},
      "execution_count": null,
      "outputs": []
    },
    {
      "cell_type": "code",
      "source": "Lets Create a code for Arthimatic expression to check the jupyter environment.",
      "metadata": {},
      "execution_count": null,
      "outputs": []
    },
    {
      "cell_type": "code",
      "source": "def area_of_rectangle(length_rect, width_rect):\n    return length_rect * width_rect\n\nlength = 5\nwidth = 3\narea = area_of_rectangle(length, width)\nprint('Area of rectangle is ', area)",
      "metadata": {
        "trusted": true
      },
      "execution_count": 1,
      "outputs": [
        {
          "name": "stdout",
          "text": "Area of rectangle is  15\n",
          "output_type": "stream"
        }
      ]
    },
    {
      "cell_type": "markdown",
      "source": "Let try another code to convert 200mins to hrs by dividing with 60",
      "metadata": {}
    },
    {
      "cell_type": "code",
      "source": "A =200\nprint(A/60, 'hrs')",
      "metadata": {
        "trusted": true
      },
      "execution_count": 3,
      "outputs": [
        {
          "name": "stdout",
          "text": "3.3333333333333335 hrs\n",
          "output_type": "stream"
        }
      ]
    },
    {
      "cell_type": "markdown",
      "source": "And thats how we use jupyter environment to develop an interactive page for coding as well as theory\n\nyours vijay signing off.",
      "metadata": {}
    }
  ]
}